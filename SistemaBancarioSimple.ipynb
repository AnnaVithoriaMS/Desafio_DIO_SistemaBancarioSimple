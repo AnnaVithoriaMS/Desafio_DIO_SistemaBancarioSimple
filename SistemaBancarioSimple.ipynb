{
  "nbformat": 4,
  "nbformat_minor": 0,
  "metadata": {
    "colab": {
      "provenance": [],
      "authorship_tag": "ABX9TyNZsCdItFzH+P9r7S6iVSsp",
      "include_colab_link": true
    },
    "kernelspec": {
      "name": "python3",
      "display_name": "Python 3"
    },
    "language_info": {
      "name": "python"
    }
  },
  "cells": [
    {
      "cell_type": "markdown",
      "metadata": {
        "id": "view-in-github",
        "colab_type": "text"
      },
      "source": [
        "<a href=\"https://colab.research.google.com/github/AnnaVithoriaMS/Desafio_DIO_SistemaBancarioSimple/blob/main/SistemaBancarioSimple.ipynb\" target=\"_parent\"><img src=\"https://colab.research.google.com/assets/colab-badge.svg\" alt=\"Open In Colab\"/></a>"
      ]
    },
    {
      "cell_type": "markdown",
      "source": [
        "**Requisitos**\n",
        "\n",
        "*Desoisto:*\n",
        "\n",
        "Somente valores positivos\n",
        "\n",
        "*Saque:*\n",
        "Limite de 1500 diario e no máximo 3 vezes\n",
        "Limite maximo de saque 500.00\n",
        "\n",
        "*Extrato*\n",
        "\n",
        "Apresentar o extrato com as movimentações"
      ],
      "metadata": {
        "id": "i1lzXcNnPk8j"
      }
    },
    {
      "cell_type": "code",
      "execution_count": null,
      "metadata": {
        "id": "DrzsrimEEUTL"
      },
      "outputs": [],
      "source": [
        "saldo = 0\n",
        "limite =  1500\n",
        "extrato = ''\n",
        "nsaque = 0\n",
        "print('*****As opções são:********')\n",
        "print('d - deposito / s - saque/ e - extrato/ x - sair')\n",
        "opcao = input('Digite o que deseja : ')\n",
        "\n",
        "while True:\n",
        "\n",
        "    if opcao == 'd':\n",
        "        valor = float(input('Valor deseja depositar '))\n",
        "        if valor > 0:\n",
        "            saldo += valor\n",
        "            extrato += f'O valor depositado é {valor:.2f}\\n'\n",
        "            opcao = input('O que deseja agora? ')\n",
        "\n",
        "        else:\n",
        "            print('Deposite uma valor valido')\n",
        "            opcao = input('O que deseja agora? ')\n",
        "\n",
        "    elif opcao == 's':\n",
        "        valor = float(input('Digite o valor a ser sacado '))\n",
        "        if valor <= saldo:\n",
        "            if valor <= 500.00:\n",
        "                saldo = saldo - valor\n",
        "                limite -= valor\n",
        "                nsaque += 1\n",
        "                extrato += f'O valor sacado é {valor:.2f}\\n'\n",
        "                opcao = input('O que deseja agora?')\n",
        "\n",
        "            else:\n",
        "                print('Valor maior que o limite')\n",
        "                opcao = input('O que deseja agora?')\n",
        "        else:\n",
        "            print('Valor maior que o saldo, tente novamente')\n",
        "            opcao = input('O que deseja agora?')\n",
        "\n",
        "    elif opcao == 'e':\n",
        "\n",
        "        print('***********Extraro***********')\n",
        "        if not extrato:\n",
        "            print('Não há movimentação')\n",
        "            print(f'Saldo {saldo:.2f}')\n",
        "\n",
        "        else:\n",
        "            print(extrato)\n",
        "            print(f'Saldo {saldo:.2f}')\n",
        "\n",
        "        print('*****************************')\n",
        "        opcao = input('O que deseja agora?')\n",
        "    elif opcao == 'x':\n",
        "        print('Sair')\n",
        "        break\n",
        "    elif limite <= 0 and nsaque == 3:\n",
        "        break\n",
        "\n",
        "\n",
        "\n"
      ]
    },
    {
      "cell_type": "code",
      "source": [],
      "metadata": {
        "id": "DTipmWGMSlcT"
      },
      "execution_count": null,
      "outputs": []
    }
  ]
}